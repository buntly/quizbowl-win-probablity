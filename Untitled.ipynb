{
 "cells": [
  {
   "cell_type": "code",
   "execution_count": 1,
   "id": "342c5335-613b-4584-ad11-595efa83a341",
   "metadata": {},
   "outputs": [
    {
     "name": "stdout",
     "output_type": "stream",
     "text": [
      "wel\n"
     ]
    }
   ],
   "source": [
    "print(\"wel\")"
   ]
  },
  {
   "cell_type": "code",
   "execution_count": 5,
   "id": "bd54a447-097d-4488-a40c-ac4dbd25c409",
   "metadata": {},
   "outputs": [],
   "source": [
    "%%capture\n",
    "%%sh\n",
    "chmod u+x ./helpful-script.sh\n",
    "./helpful-script.sh setup"
   ]
  },
  {
   "cell_type": "code",
   "execution_count": 7,
   "id": "18eeddc6-e139-434b-8257-e109df7ea1d4",
   "metadata": {},
   "outputs": [],
   "source": [
    "# took this from a random homework let's see what it does\n",
    "import numpy as np\n",
    "from datascience import *\n",
    "import d8error\n",
    "\n",
    "# These lines do some fancy plotting magic.\n",
    "import matplotlib\n",
    "%matplotlib inline\n",
    "import matplotlib.pyplot as plt\n",
    "plt.style.use('fivethirtyeight')\n",
    "\n",
    "import warnings\n",
    "warnings.simplefilter('ignore', FutureWarning)\n",
    "warnings.filterwarnings(\"ignore\")"
   ]
  },
  {
   "cell_type": "code",
   "execution_count": 19,
   "id": "cda21981-75b8-435d-96fd-afe44b0dbfdf",
   "metadata": {},
   "outputs": [],
   "source": [
    "full_stats_individuals = Table.read_table(\"prelims_individuals.csv\")"
   ]
  },
  {
   "cell_type": "code",
   "execution_count": 20,
   "id": "ea2b462b-da72-493c-99b1-dace5fc74c0e",
   "metadata": {},
   "outputs": [
    {
     "data": {
      "text/html": [
       "<table border=\"1\" class=\"dataframe\">\n",
       "    <thead>\n",
       "        <tr>\n",
       "            <th>Player</th> <th>Team</th> <th>GP</th> <th>20</th> <th>10</th> <th>TUH</th> <th>Pts</th> <th>PPG</th>\n",
       "        </tr>\n",
       "    </thead>\n",
       "    <tbody>\n",
       "        <tr>\n",
       "            <td>Braden Booth   </td> <td>Dallas County Academic Team</td> <td>5   </td> <td>28  </td> <td>29  </td> <td>100 </td> <td>850 </td> <td>170 </td>\n",
       "        </tr>\n",
       "        <tr>\n",
       "            <td>Camden Williams</td> <td>Mexico                     </td> <td>5   </td> <td>28  </td> <td>16  </td> <td>100 </td> <td>720 </td> <td>144 </td>\n",
       "        </tr>\n",
       "        <tr>\n",
       "            <td>Ali Hamzeh     </td> <td>Kinkaid                    </td> <td>5   </td> <td>24  </td> <td>17  </td> <td>100 </td> <td>650 </td> <td>130 </td>\n",
       "        </tr>\n",
       "        <tr>\n",
       "            <td>Sinecio Morales</td> <td>Rockford Auburn A          </td> <td>5   </td> <td>15  </td> <td>27  </td> <td>100 </td> <td>570 </td> <td>114 </td>\n",
       "        </tr>\n",
       "        <tr>\n",
       "            <td>Rohan Kher     </td> <td>Barrington A               </td> <td>5   </td> <td>20  </td> <td>14  </td> <td>100 </td> <td>540 </td> <td>108 </td>\n",
       "        </tr>\n",
       "        <tr>\n",
       "            <td>Evan Lin       </td> <td>Woodland                   </td> <td>5   </td> <td>12  </td> <td>30  </td> <td>100 </td> <td>540 </td> <td>108 </td>\n",
       "        </tr>\n",
       "        <tr>\n",
       "            <td>Elliott Lee    </td> <td>Thomas Jefferson A         </td> <td>5   </td> <td>21  </td> <td>10  </td> <td>100 </td> <td>520 </td> <td>104 </td>\n",
       "        </tr>\n",
       "        <tr>\n",
       "            <td>Arthur Gayden  </td> <td>Detroit Country Day        </td> <td>5   </td> <td>20  </td> <td>11  </td> <td>100 </td> <td>510 </td> <td>102 </td>\n",
       "        </tr>\n",
       "        <tr>\n",
       "            <td>Yaj Jhajhria   </td> <td>Canyon Crest               </td> <td>4   </td> <td>8   </td> <td>24  </td> <td>80  </td> <td>400 </td> <td>100 </td>\n",
       "        </tr>\n",
       "        <tr>\n",
       "            <td>Omkar Marathe  </td> <td>William Fremd              </td> <td>5   </td> <td>17  </td> <td>15  </td> <td>100 </td> <td>490 </td> <td>98  </td>\n",
       "        </tr>\n",
       "    </tbody>\n",
       "</table>\n",
       "<p>... (296 rows omitted)</p>"
      ],
      "text/plain": [
       "Player          | Team                        | GP   | 20   | 10   | TUH  | Pts  | PPG\n",
       "Braden Booth    | Dallas County Academic Team | 5    | 28   | 29   | 100  | 850  | 170\n",
       "Camden Williams | Mexico                      | 5    | 28   | 16   | 100  | 720  | 144\n",
       "Ali Hamzeh      | Kinkaid                     | 5    | 24   | 17   | 100  | 650  | 130\n",
       "Sinecio Morales | Rockford Auburn A           | 5    | 15   | 27   | 100  | 570  | 114\n",
       "Rohan Kher      | Barrington A                | 5    | 20   | 14   | 100  | 540  | 108\n",
       "Evan Lin        | Woodland                    | 5    | 12   | 30   | 100  | 540  | 108\n",
       "Elliott Lee     | Thomas Jefferson A          | 5    | 21   | 10   | 100  | 520  | 104\n",
       "Arthur Gayden   | Detroit Country Day         | 5    | 20   | 11   | 100  | 510  | 102\n",
       "Yaj Jhajhria    | Canyon Crest                | 4    | 8    | 24   | 80   | 400  | 100\n",
       "Omkar Marathe   | William Fremd               | 5    | 17   | 15   | 100  | 490  | 98\n",
       "... (296 rows omitted)"
      ]
     },
     "execution_count": 20,
     "metadata": {},
     "output_type": "execute_result"
    }
   ],
   "source": [
    "stats_individuals = full_stats.select(\"Player\", \"Team\", \"GP\", \"20\", \"10\", \"TUH\", \"Pts\", \"PPG\")\n",
    "stats_individuals"
   ]
  },
  {
   "cell_type": "code",
   "execution_count": 32,
   "id": "ff4e3cb6-6a77-4a0c-b84f-452edb0d2357",
   "metadata": {},
   "outputs": [
    {
     "data": {
      "text/html": [
       "<table border=\"1\" class=\"dataframe\">\n",
       "    <thead>\n",
       "        <tr>\n",
       "            <th>Team</th> <th>W</th> <th>L</th> <th>Pct</th> <th>PPG</th> <th>20</th> <th>10</th> <th>TUH</th> <th>BHrd</th> <th>BPts</th> <th>PPB</th>\n",
       "        </tr>\n",
       "    </thead>\n",
       "    <tbody>\n",
       "        <tr>\n",
       "            <td>Barrington A               </td> <td>5   </td> <td>0   </td> <td>1   </td> <td>596  </td> <td>38  </td> <td>40  </td> <td>100 </td> <td>78  </td> <td>1820</td> <td>23.33</td>\n",
       "        </tr>\n",
       "        <tr>\n",
       "            <td>Thomas Jefferson A         </td> <td>5   </td> <td>0   </td> <td>1   </td> <td>528  </td> <td>40  </td> <td>35  </td> <td>100 </td> <td>75  </td> <td>1490</td> <td>19.87</td>\n",
       "        </tr>\n",
       "        <tr>\n",
       "            <td>Belmont                    </td> <td>5   </td> <td>0   </td> <td>1   </td> <td>522.5</td> <td>30  </td> <td>28  </td> <td>80  </td> <td>58  </td> <td>1210</td> <td>20.86</td>\n",
       "        </tr>\n",
       "        <tr>\n",
       "            <td>Hunter A                   </td> <td>5   </td> <td>0   </td> <td>1   </td> <td>520  </td> <td>34  </td> <td>36  </td> <td>100 </td> <td>70  </td> <td>1560</td> <td>22.29</td>\n",
       "        </tr>\n",
       "        <tr>\n",
       "            <td>Detroit Country Day        </td> <td>5   </td> <td>0   </td> <td>1   </td> <td>518  </td> <td>40  </td> <td>33  </td> <td>100 </td> <td>73  </td> <td>1460</td> <td>20   </td>\n",
       "        </tr>\n",
       "        <tr>\n",
       "            <td>Dallas County Academic Team</td> <td>5   </td> <td>0   </td> <td>1   </td> <td>514  </td> <td>35  </td> <td>40  </td> <td>100 </td> <td>75  </td> <td>1470</td> <td>19.6 </td>\n",
       "        </tr>\n",
       "        <tr>\n",
       "            <td>Kinkaid                    </td> <td>5   </td> <td>0   </td> <td>1   </td> <td>506  </td> <td>38  </td> <td>33  </td> <td>100 </td> <td>71  </td> <td>1440</td> <td>20.28</td>\n",
       "        </tr>\n",
       "        <tr>\n",
       "            <td>Rockford Auburn A          </td> <td>5   </td> <td>0   </td> <td>1   </td> <td>480  </td> <td>24  </td> <td>46  </td> <td>100 </td> <td>70  </td> <td>1460</td> <td>20.86</td>\n",
       "        </tr>\n",
       "        <tr>\n",
       "            <td>Detroit Catholic Central A </td> <td>4   </td> <td>1   </td> <td>0.8 </td> <td>450  </td> <td>23  </td> <td>46  </td> <td>100 </td> <td>69  </td> <td>1330</td> <td>19.28</td>\n",
       "        </tr>\n",
       "        <tr>\n",
       "            <td>William Fremd              </td> <td>5   </td> <td>0   </td> <td>1   </td> <td>420  </td> <td>23  </td> <td>46  </td> <td>100 </td> <td>69  </td> <td>1180</td> <td>17.1 </td>\n",
       "        </tr>\n",
       "    </tbody>\n",
       "</table>\n",
       "<p>... (62 rows omitted)</p>"
      ],
      "text/plain": [
       "Team                        | W    | L    | Pct  | PPG   | 20   | 10   | TUH  | BHrd | BPts | PPB\n",
       "Barrington A                | 5    | 0    | 1    | 596   | 38   | 40   | 100  | 78   | 1820 | 23.33\n",
       "Thomas Jefferson A          | 5    | 0    | 1    | 528   | 40   | 35   | 100  | 75   | 1490 | 19.87\n",
       "Belmont                     | 5    | 0    | 1    | 522.5 | 30   | 28   | 80   | 58   | 1210 | 20.86\n",
       "Hunter A                    | 5    | 0    | 1    | 520   | 34   | 36   | 100  | 70   | 1560 | 22.29\n",
       "Detroit Country Day         | 5    | 0    | 1    | 518   | 40   | 33   | 100  | 73   | 1460 | 20\n",
       "Dallas County Academic Team | 5    | 0    | 1    | 514   | 35   | 40   | 100  | 75   | 1470 | 19.6\n",
       "Kinkaid                     | 5    | 0    | 1    | 506   | 38   | 33   | 100  | 71   | 1440 | 20.28\n",
       "Rockford Auburn A           | 5    | 0    | 1    | 480   | 24   | 46   | 100  | 70   | 1460 | 20.86\n",
       "Detroit Catholic Central A  | 4    | 1    | 0.8  | 450   | 23   | 46   | 100  | 69   | 1330 | 19.28\n",
       "William Fremd               | 5    | 0    | 1    | 420   | 23   | 46   | 100  | 69   | 1180 | 17.1\n",
       "... (62 rows omitted)"
      ]
     },
     "execution_count": 32,
     "metadata": {},
     "output_type": "execute_result"
    }
   ],
   "source": [
    "stats_teams = Table.read_table(\"prelims_teams.csv\").select(\"Team\",\"W\", \"L\", \"Pct\",\"PPG\", \"20\", \"10\", \"TUH\", \"PPG\", \"BHrd\", \"BPts\", \"PPB\")\n",
    "stats_teams.sort(\"PPG\", descending=True)"
   ]
  },
  {
   "cell_type": "code",
   "execution_count": null,
   "id": "24107a61-11eb-458e-8952-46bb6ebb2230",
   "metadata": {},
   "outputs": [],
   "source": []
  }
 ],
 "metadata": {
  "kernelspec": {
   "display_name": "Python 3 (ipykernel)",
   "language": "python",
   "name": "python3"
  },
  "language_info": {
   "codemirror_mode": {
    "name": "ipython",
    "version": 3
   },
   "file_extension": ".py",
   "mimetype": "text/x-python",
   "name": "python",
   "nbconvert_exporter": "python",
   "pygments_lexer": "ipython3",
   "version": "3.10.13"
  }
 },
 "nbformat": 4,
 "nbformat_minor": 5
}
